{
  "cells": [
    {
      "cell_type": "markdown",
      "metadata": {
        "id": "view-in-github",
        "colab_type": "text"
      },
      "source": [
        "<a href=\"https://colab.research.google.com/github/sadisonmez/pythonic-accountant/blob/master/Activity_Discover_what_is_in_your_dataset.ipynb\" target=\"_parent\"><img src=\"https://colab.research.google.com/assets/colab-badge.svg\" alt=\"Open In Colab\"/></a>"
      ]
    },
    {
      "cell_type": "markdown",
      "metadata": {
        "id": "1WD1hC5MTRMS"
      },
      "source": [
        "# Activity: Discover what is in your dataset"
      ],
      "id": "1WD1hC5MTRMS"
    },
    {
      "cell_type": "markdown",
      "metadata": {
        "id": "ee31943b-274e-4c28-bce6-155cb6f4c334"
      },
      "source": [
        "## Introduction\n",
        "\n",
        "In this activity, you will discover characteristics of a dataset and use visualizations to analyze the data. This will develop and strengthen your skills in **exploratory data analysis (EDA)** and your knowledge of functions that allow you to explore and visualize data. \n",
        "\n",
        "EDA is an essential process in a data science workflow. As a data professional, you will need to conduct this process to better understand the data at hand and determine how it can be used to solve the problem you want to address. This activity will give you an opportunity to practice that process and prepare you for EDA in future projects.\n",
        "\n",
        "In this activity, you are a member of an analytics team that provides insights to an investing firm. To help them decide which companies to invest in next, the firm wants insights into **unicorn companies**–companies that are valued at over one billion dollars. The data you will use for this task provides information on over 1,000 unicorn companies, including their industry, country, year founded, and select investors. You will use this information to gain insights into how and when companies reach this prestigious milestone and to make recommentations for next steps to the investing firm."
      ],
      "id": "ee31943b-274e-4c28-bce6-155cb6f4c334"
    },
    {
      "cell_type": "markdown",
      "metadata": {
        "id": "4bb9630e-b940-4835-a389-d39def1fa848"
      },
      "source": [
        "## Step 1: Imports"
      ],
      "id": "4bb9630e-b940-4835-a389-d39def1fa848"
    },
    {
      "cell_type": "markdown",
      "metadata": {
        "id": "bc180686-4ae2-47ea-a292-3588ac60a820"
      },
      "source": [
        "### Import libraries and packages \n",
        "\n",
        "First, import relevant Python libraries and modules. Use the `pandas` library and the `matplotlib.pyplot` module."
      ],
      "id": "bc180686-4ae2-47ea-a292-3588ac60a820"
    },
    {
      "cell_type": "code",
      "execution_count": 3,
      "metadata": {
        "id": "8e7f1f2c-bbcc-4f3c-b927-b090ee8334c4"
      },
      "outputs": [],
      "source": [
        "# Import libraries and packages\n",
        "\n",
        "### YOUR CODE HERE ###\n",
        "import numpy as np\n",
        "import pandas as pd\n",
        "import matplotlib.pyplot as plt\n"
      ],
      "id": "8e7f1f2c-bbcc-4f3c-b927-b090ee8334c4"
    },
    {
      "cell_type": "markdown",
      "metadata": {
        "id": "7d29c6bd-f194-46bb-b794-56dc20130473"
      },
      "source": [
        "### Load the dataset into a DataFrame\n",
        "\n",
        "The dataset provided is in the form of a csv file named `Unicorn_Companies.csv` and contains a subset of data on unicorn companies. As shown in this cell, the dataset has been automatically loaded in for you. You do not need to download the .csv file, or provide more code, in order to access the dataset and proceed with this lab. Please continue with this activity by completing the following instructions."
      ],
      "id": "7d29c6bd-f194-46bb-b794-56dc20130473"
    },
    {
      "cell_type": "code",
      "execution_count": 4,
      "metadata": {
        "id": "3bd40d44-080f-4e49-b0c2-160dedc3c4df"
      },
      "outputs": [],
      "source": [
        "# RUN THIS CELL TO IMPORT YOUR DATA.\n",
        "\n",
        "### YOUR CODE HERE ###\n",
        "companies = pd.read_csv(\"/content/Unicorn_Companies.csv\")"
      ],
      "id": "3bd40d44-080f-4e49-b0c2-160dedc3c4df"
    },
    {
      "cell_type": "markdown",
      "metadata": {
        "id": "lXPOJ3LO-v7J",
        "jp-MarkdownHeadingCollapsed": true,
        "tags": []
      },
      "source": [
        "<details>\n",
        "  <summary><h4><strong>Hint 1</strong></h4></summary>\n",
        "\n",
        "Refer to what you learned about [loading data](https://www.coursera.org/learn/go-beyond-the-numbers-translate-data-into-insight/supplement/MdTG2/reference-guide-import-datasets-using-python) in Python.\n",
        "\n",
        "</details>"
      ],
      "id": "lXPOJ3LO-v7J"
    },
    {
      "cell_type": "markdown",
      "metadata": {
        "id": "O5TEL8Ty-v7L",
        "jp-MarkdownHeadingCollapsed": true,
        "tags": []
      },
      "source": [
        "<details>\n",
        "  <summary><h4><strong>Hint 2</strong></h4></summary>\n",
        "\n",
        "Use the function in the `pandas` library that allows you to read data from a csv file and load the data into a DataFrame.\n",
        " \n",
        "\n",
        "</details>"
      ],
      "id": "O5TEL8Ty-v7L"
    },
    {
      "cell_type": "markdown",
      "metadata": {
        "id": "kEx2SsH2-v7M",
        "jp-MarkdownHeadingCollapsed": true,
        "tags": []
      },
      "source": [
        "<details>\n",
        "  <summary><h4><strong>Hint 3</strong></h4></summary>\n",
        "\n",
        "Use the `read_csv()` function from the `pandas` library. \n",
        "\n",
        "</details>"
      ],
      "id": "kEx2SsH2-v7M"
    },
    {
      "cell_type": "markdown",
      "metadata": {
        "id": "95bf39c9-d05c-4324-a40b-bc692607b61b"
      },
      "source": [
        "## Step 2: Data exploration"
      ],
      "id": "95bf39c9-d05c-4324-a40b-bc692607b61b"
    },
    {
      "cell_type": "markdown",
      "metadata": {
        "id": "26561614-8e9b-4840-8dbf-b50131ae5314",
        "tags": []
      },
      "source": [
        "### Display the first 10 rows of the data\n",
        "\n",
        "Next, explore the dataset and answer questions to guide your exploration and analysis of the data. To begin, display the first 10 rows of the data to get an understanding of how the dataset is structured."
      ],
      "id": "26561614-8e9b-4840-8dbf-b50131ae5314"
    },
    {
      "cell_type": "code",
      "execution_count": 5,
      "metadata": {
        "id": "ad5210a5-7a64-4991-b004-de818cfaf506",
        "colab": {
          "base_uri": "https://localhost:8080/",
          "height": 363
        },
        "outputId": "ad0e7031-24e6-4130-b44a-705459c88dee"
      },
      "outputs": [
        {
          "output_type": "execute_result",
          "data": {
            "text/plain": [
              "        Company Valuation Date Joined                             Industry  \\\n",
              "0     Bytedance     $180B      4/7/17              Artificial intelligence   \n",
              "1        SpaceX     $100B     12/1/12                                Other   \n",
              "2         SHEIN     $100B      7/3/18      E-commerce & direct-to-consumer   \n",
              "3        Stripe      $95B     1/23/14                              Fintech   \n",
              "4        Klarna      $46B    12/12/11                              Fintech   \n",
              "5         Canva      $40B      1/8/18         Internet software & services   \n",
              "6  Checkout.com      $40B      5/2/19                              Fintech   \n",
              "7     Instacart      $39B    12/30/14  Supply chain, logistics, & delivery   \n",
              "8     JUUL Labs      $38B    12/20/17                    Consumer & retail   \n",
              "9    Databricks      $38B      2/5/19          Data management & analytics   \n",
              "\n",
              "            City  Country/Region      Continent  Year Founded Funding  \\\n",
              "0        Beijing           China           Asia          2012     $8B   \n",
              "1      Hawthorne   United States  North America          2002     $7B   \n",
              "2       Shenzhen           China           Asia          2008     $2B   \n",
              "3  San Francisco   United States  North America          2010     $2B   \n",
              "4      Stockholm          Sweden         Europe          2005     $4B   \n",
              "5    Surry Hills       Australia        Oceania          2012   $572M   \n",
              "6         London  United Kingdom         Europe          2012     $2B   \n",
              "7  San Francisco   United States  North America          2012     $3B   \n",
              "8  San Francisco   United States  North America          2015    $14B   \n",
              "9  San Francisco   United States  North America          2013     $3B   \n",
              "\n",
              "                                    Select Investors  \n",
              "0  Sequoia Capital China, SIG Asia Investments, S...  \n",
              "1  Founders Fund, Draper Fisher Jurvetson, Rothen...  \n",
              "2  Tiger Global Management, Sequoia Capital China...  \n",
              "3        Khosla Ventures, LowercaseCapital, capitalG  \n",
              "4  Institutional Venture Partners, Sequoia Capita...  \n",
              "5  Sequoia Capital China, Blackbird Ventures, Mat...  \n",
              "6  Tiger Global Management, Insight Partners, DST...  \n",
              "7  Khosla Ventures, Kleiner Perkins Caufield & By...  \n",
              "8                            Tiger Global Management  \n",
              "9  Andreessen Horowitz, New Enterprise Associates...  "
            ],
            "text/html": [
              "\n",
              "  <div id=\"df-f56d71cc-9251-4ce4-aab0-7ff4fd9e4810\">\n",
              "    <div class=\"colab-df-container\">\n",
              "      <div>\n",
              "<style scoped>\n",
              "    .dataframe tbody tr th:only-of-type {\n",
              "        vertical-align: middle;\n",
              "    }\n",
              "\n",
              "    .dataframe tbody tr th {\n",
              "        vertical-align: top;\n",
              "    }\n",
              "\n",
              "    .dataframe thead th {\n",
              "        text-align: right;\n",
              "    }\n",
              "</style>\n",
              "<table border=\"1\" class=\"dataframe\">\n",
              "  <thead>\n",
              "    <tr style=\"text-align: right;\">\n",
              "      <th></th>\n",
              "      <th>Company</th>\n",
              "      <th>Valuation</th>\n",
              "      <th>Date Joined</th>\n",
              "      <th>Industry</th>\n",
              "      <th>City</th>\n",
              "      <th>Country/Region</th>\n",
              "      <th>Continent</th>\n",
              "      <th>Year Founded</th>\n",
              "      <th>Funding</th>\n",
              "      <th>Select Investors</th>\n",
              "    </tr>\n",
              "  </thead>\n",
              "  <tbody>\n",
              "    <tr>\n",
              "      <th>0</th>\n",
              "      <td>Bytedance</td>\n",
              "      <td>$180B</td>\n",
              "      <td>4/7/17</td>\n",
              "      <td>Artificial intelligence</td>\n",
              "      <td>Beijing</td>\n",
              "      <td>China</td>\n",
              "      <td>Asia</td>\n",
              "      <td>2012</td>\n",
              "      <td>$8B</td>\n",
              "      <td>Sequoia Capital China, SIG Asia Investments, S...</td>\n",
              "    </tr>\n",
              "    <tr>\n",
              "      <th>1</th>\n",
              "      <td>SpaceX</td>\n",
              "      <td>$100B</td>\n",
              "      <td>12/1/12</td>\n",
              "      <td>Other</td>\n",
              "      <td>Hawthorne</td>\n",
              "      <td>United States</td>\n",
              "      <td>North America</td>\n",
              "      <td>2002</td>\n",
              "      <td>$7B</td>\n",
              "      <td>Founders Fund, Draper Fisher Jurvetson, Rothen...</td>\n",
              "    </tr>\n",
              "    <tr>\n",
              "      <th>2</th>\n",
              "      <td>SHEIN</td>\n",
              "      <td>$100B</td>\n",
              "      <td>7/3/18</td>\n",
              "      <td>E-commerce &amp; direct-to-consumer</td>\n",
              "      <td>Shenzhen</td>\n",
              "      <td>China</td>\n",
              "      <td>Asia</td>\n",
              "      <td>2008</td>\n",
              "      <td>$2B</td>\n",
              "      <td>Tiger Global Management, Sequoia Capital China...</td>\n",
              "    </tr>\n",
              "    <tr>\n",
              "      <th>3</th>\n",
              "      <td>Stripe</td>\n",
              "      <td>$95B</td>\n",
              "      <td>1/23/14</td>\n",
              "      <td>Fintech</td>\n",
              "      <td>San Francisco</td>\n",
              "      <td>United States</td>\n",
              "      <td>North America</td>\n",
              "      <td>2010</td>\n",
              "      <td>$2B</td>\n",
              "      <td>Khosla Ventures, LowercaseCapital, capitalG</td>\n",
              "    </tr>\n",
              "    <tr>\n",
              "      <th>4</th>\n",
              "      <td>Klarna</td>\n",
              "      <td>$46B</td>\n",
              "      <td>12/12/11</td>\n",
              "      <td>Fintech</td>\n",
              "      <td>Stockholm</td>\n",
              "      <td>Sweden</td>\n",
              "      <td>Europe</td>\n",
              "      <td>2005</td>\n",
              "      <td>$4B</td>\n",
              "      <td>Institutional Venture Partners, Sequoia Capita...</td>\n",
              "    </tr>\n",
              "    <tr>\n",
              "      <th>5</th>\n",
              "      <td>Canva</td>\n",
              "      <td>$40B</td>\n",
              "      <td>1/8/18</td>\n",
              "      <td>Internet software &amp; services</td>\n",
              "      <td>Surry Hills</td>\n",
              "      <td>Australia</td>\n",
              "      <td>Oceania</td>\n",
              "      <td>2012</td>\n",
              "      <td>$572M</td>\n",
              "      <td>Sequoia Capital China, Blackbird Ventures, Mat...</td>\n",
              "    </tr>\n",
              "    <tr>\n",
              "      <th>6</th>\n",
              "      <td>Checkout.com</td>\n",
              "      <td>$40B</td>\n",
              "      <td>5/2/19</td>\n",
              "      <td>Fintech</td>\n",
              "      <td>London</td>\n",
              "      <td>United Kingdom</td>\n",
              "      <td>Europe</td>\n",
              "      <td>2012</td>\n",
              "      <td>$2B</td>\n",
              "      <td>Tiger Global Management, Insight Partners, DST...</td>\n",
              "    </tr>\n",
              "    <tr>\n",
              "      <th>7</th>\n",
              "      <td>Instacart</td>\n",
              "      <td>$39B</td>\n",
              "      <td>12/30/14</td>\n",
              "      <td>Supply chain, logistics, &amp; delivery</td>\n",
              "      <td>San Francisco</td>\n",
              "      <td>United States</td>\n",
              "      <td>North America</td>\n",
              "      <td>2012</td>\n",
              "      <td>$3B</td>\n",
              "      <td>Khosla Ventures, Kleiner Perkins Caufield &amp; By...</td>\n",
              "    </tr>\n",
              "    <tr>\n",
              "      <th>8</th>\n",
              "      <td>JUUL Labs</td>\n",
              "      <td>$38B</td>\n",
              "      <td>12/20/17</td>\n",
              "      <td>Consumer &amp; retail</td>\n",
              "      <td>San Francisco</td>\n",
              "      <td>United States</td>\n",
              "      <td>North America</td>\n",
              "      <td>2015</td>\n",
              "      <td>$14B</td>\n",
              "      <td>Tiger Global Management</td>\n",
              "    </tr>\n",
              "    <tr>\n",
              "      <th>9</th>\n",
              "      <td>Databricks</td>\n",
              "      <td>$38B</td>\n",
              "      <td>2/5/19</td>\n",
              "      <td>Data management &amp; analytics</td>\n",
              "      <td>San Francisco</td>\n",
              "      <td>United States</td>\n",
              "      <td>North America</td>\n",
              "      <td>2013</td>\n",
              "      <td>$3B</td>\n",
              "      <td>Andreessen Horowitz, New Enterprise Associates...</td>\n",
              "    </tr>\n",
              "  </tbody>\n",
              "</table>\n",
              "</div>\n",
              "      <button class=\"colab-df-convert\" onclick=\"convertToInteractive('df-f56d71cc-9251-4ce4-aab0-7ff4fd9e4810')\"\n",
              "              title=\"Convert this dataframe to an interactive table.\"\n",
              "              style=\"display:none;\">\n",
              "        \n",
              "  <svg xmlns=\"http://www.w3.org/2000/svg\" height=\"24px\"viewBox=\"0 0 24 24\"\n",
              "       width=\"24px\">\n",
              "    <path d=\"M0 0h24v24H0V0z\" fill=\"none\"/>\n",
              "    <path d=\"M18.56 5.44l.94 2.06.94-2.06 2.06-.94-2.06-.94-.94-2.06-.94 2.06-2.06.94zm-11 1L8.5 8.5l.94-2.06 2.06-.94-2.06-.94L8.5 2.5l-.94 2.06-2.06.94zm10 10l.94 2.06.94-2.06 2.06-.94-2.06-.94-.94-2.06-.94 2.06-2.06.94z\"/><path d=\"M17.41 7.96l-1.37-1.37c-.4-.4-.92-.59-1.43-.59-.52 0-1.04.2-1.43.59L10.3 9.45l-7.72 7.72c-.78.78-.78 2.05 0 2.83L4 21.41c.39.39.9.59 1.41.59.51 0 1.02-.2 1.41-.59l7.78-7.78 2.81-2.81c.8-.78.8-2.07 0-2.86zM5.41 20L4 18.59l7.72-7.72 1.47 1.35L5.41 20z\"/>\n",
              "  </svg>\n",
              "      </button>\n",
              "      \n",
              "  <style>\n",
              "    .colab-df-container {\n",
              "      display:flex;\n",
              "      flex-wrap:wrap;\n",
              "      gap: 12px;\n",
              "    }\n",
              "\n",
              "    .colab-df-convert {\n",
              "      background-color: #E8F0FE;\n",
              "      border: none;\n",
              "      border-radius: 50%;\n",
              "      cursor: pointer;\n",
              "      display: none;\n",
              "      fill: #1967D2;\n",
              "      height: 32px;\n",
              "      padding: 0 0 0 0;\n",
              "      width: 32px;\n",
              "    }\n",
              "\n",
              "    .colab-df-convert:hover {\n",
              "      background-color: #E2EBFA;\n",
              "      box-shadow: 0px 1px 2px rgba(60, 64, 67, 0.3), 0px 1px 3px 1px rgba(60, 64, 67, 0.15);\n",
              "      fill: #174EA6;\n",
              "    }\n",
              "\n",
              "    [theme=dark] .colab-df-convert {\n",
              "      background-color: #3B4455;\n",
              "      fill: #D2E3FC;\n",
              "    }\n",
              "\n",
              "    [theme=dark] .colab-df-convert:hover {\n",
              "      background-color: #434B5C;\n",
              "      box-shadow: 0px 1px 3px 1px rgba(0, 0, 0, 0.15);\n",
              "      filter: drop-shadow(0px 1px 2px rgba(0, 0, 0, 0.3));\n",
              "      fill: #FFFFFF;\n",
              "    }\n",
              "  </style>\n",
              "\n",
              "      <script>\n",
              "        const buttonEl =\n",
              "          document.querySelector('#df-f56d71cc-9251-4ce4-aab0-7ff4fd9e4810 button.colab-df-convert');\n",
              "        buttonEl.style.display =\n",
              "          google.colab.kernel.accessAllowed ? 'block' : 'none';\n",
              "\n",
              "        async function convertToInteractive(key) {\n",
              "          const element = document.querySelector('#df-f56d71cc-9251-4ce4-aab0-7ff4fd9e4810');\n",
              "          const dataTable =\n",
              "            await google.colab.kernel.invokeFunction('convertToInteractive',\n",
              "                                                     [key], {});\n",
              "          if (!dataTable) return;\n",
              "\n",
              "          const docLinkHtml = 'Like what you see? Visit the ' +\n",
              "            '<a target=\"_blank\" href=https://colab.research.google.com/notebooks/data_table.ipynb>data table notebook</a>'\n",
              "            + ' to learn more about interactive tables.';\n",
              "          element.innerHTML = '';\n",
              "          dataTable['output_type'] = 'display_data';\n",
              "          await google.colab.output.renderOutput(dataTable, element);\n",
              "          const docLink = document.createElement('div');\n",
              "          docLink.innerHTML = docLinkHtml;\n",
              "          element.appendChild(docLink);\n",
              "        }\n",
              "      </script>\n",
              "    </div>\n",
              "  </div>\n",
              "  "
            ]
          },
          "metadata": {},
          "execution_count": 5
        }
      ],
      "source": [
        "# Display the first 10 rows of the data\n",
        "\n",
        "### YOUR CODE HERE ###\n",
        "companies.head(10)"
      ],
      "id": "ad5210a5-7a64-4991-b004-de818cfaf506"
    },
    {
      "cell_type": "markdown",
      "metadata": {
        "id": "49881dfd-4532-424f-9729-f5378d984df0",
        "jp-MarkdownHeadingCollapsed": true,
        "tags": []
      },
      "source": [
        "<details>\n",
        "  <summary><h4><strong>Hint 1</strong></h4></summary>\n",
        "\n",
        "Refer to [the content about exploratory data analysis in Python](https://www.coursera.org/learn/go-beyond-the-numbers-translate-data-into-insight/lecture/kfl9b/find-stories-using-the-six-exploratory-data-analysis-practices).\n",
        "\n",
        "</details>"
      ],
      "id": "49881dfd-4532-424f-9729-f5378d984df0"
    },
    {
      "cell_type": "markdown",
      "metadata": {
        "id": "k2QxFOi9HW1Q",
        "jp-MarkdownHeadingCollapsed": true,
        "tags": []
      },
      "source": [
        "<details>\n",
        "  <summary><h4><strong>Hint 2</strong></h4></summary>\n",
        "\n",
        "Use the function in the `pandas` library that allows you to get a specific number of rows from the top of a DataFrame.\n",
        " \n",
        "\n",
        "</details>"
      ],
      "id": "k2QxFOi9HW1Q"
    },
    {
      "cell_type": "markdown",
      "metadata": {
        "id": "ptkclWFzHjHv",
        "jp-MarkdownHeadingCollapsed": true,
        "tags": []
      },
      "source": [
        "<details>\n",
        "  <summary><h4><strong>Hint 3</strong></h4></summary>\n",
        "\n",
        "Use the `head()` function from the `pandas` library. \n",
        "\n",
        "</details>"
      ],
      "id": "ptkclWFzHjHv"
    },
    {
      "cell_type": "markdown",
      "metadata": {
        "id": "fb45ed17-5e22-4d48-9750-130a8586bbf9",
        "tags": []
      },
      "source": [
        "**Question:** What do you think the \"Date Joined\" column represents?"
      ],
      "id": "fb45ed17-5e22-4d48-9750-130a8586bbf9"
    },
    {
      "cell_type": "markdown",
      "metadata": {
        "id": "EvIbtmjalQHF"
      },
      "source": [
        "# [Answer: reaching 1 billion usd in valuation]"
      ],
      "id": "EvIbtmjalQHF"
    },
    {
      "cell_type": "markdown",
      "metadata": {
        "id": "46e7fce4-b8dc-4f53-9f5f-a7d7fdfe0831",
        "tags": []
      },
      "source": [
        "**Question:** What do you think the \"Select Investors\" column represents?"
      ],
      "id": "46e7fce4-b8dc-4f53-9f5f-a7d7fdfe0831"
    },
    {
      "cell_type": "markdown",
      "metadata": {
        "id": "1sdw8O-PlQ19"
      },
      "source": [
        "Answer: Companies Invested in this\n"
      ],
      "id": "1sdw8O-PlQ19"
    },
    {
      "cell_type": "markdown",
      "metadata": {
        "id": "6d423621-c14b-4987-a76d-feee76046144"
      },
      "source": [
        "### Assess the size of the dataset\n",
        "\n",
        "Get a sense of how large the dataset is. The `size` property that DataFrames have can help."
      ],
      "id": "6d423621-c14b-4987-a76d-feee76046144"
    },
    {
      "cell_type": "code",
      "execution_count": 6,
      "metadata": {
        "id": "1856c3c8-dd7e-4b0f-8e30-06e8ed6b9885",
        "colab": {
          "base_uri": "https://localhost:8080/"
        },
        "outputId": "276d486c-515d-4d4b-e24a-316841847e98"
      },
      "outputs": [
        {
          "output_type": "execute_result",
          "data": {
            "text/plain": [
              "10740"
            ]
          },
          "metadata": {},
          "execution_count": 6
        }
      ],
      "source": [
        "# How large the dataset is\n",
        "\n",
        "### YOUR CODE HERE ###\n",
        "\n",
        "companies.size"
      ],
      "id": "1856c3c8-dd7e-4b0f-8e30-06e8ed6b9885"
    },
    {
      "cell_type": "markdown",
      "metadata": {
        "id": "a1188994-353a-466e-884c-e7b770fa03ac",
        "jp-MarkdownHeadingCollapsed": true,
        "tags": []
      },
      "source": [
        "**Question:** What do you notice about the size of the dataset?"
      ],
      "id": "a1188994-353a-466e-884c-e7b770fa03ac"
    },
    {
      "cell_type": "markdown",
      "metadata": {
        "id": "gLRHG7k6lPC2"
      },
      "source": [
        "10740 records [Write your response here. Double-click (or enter) to edit.]"
      ],
      "id": "gLRHG7k6lPC2"
    },
    {
      "cell_type": "markdown",
      "metadata": {
        "id": "e31095a6-5526-42d3-b1c0-b77c1f8b3852"
      },
      "source": [
        "### Determine the shape of the dataset\n",
        "\n",
        "Identify the number of rows and columns in the dataset. The `shape` property that DataFrames have can help."
      ],
      "id": "e31095a6-5526-42d3-b1c0-b77c1f8b3852"
    },
    {
      "cell_type": "code",
      "execution_count": 7,
      "metadata": {
        "id": "df3c71a1-2519-4c50-86c2-63902a534d27",
        "colab": {
          "base_uri": "https://localhost:8080/"
        },
        "outputId": "a11e034b-2bb6-42ce-9546-82e8f9f4cab7"
      },
      "outputs": [
        {
          "output_type": "execute_result",
          "data": {
            "text/plain": [
              "(1074, 10)"
            ]
          },
          "metadata": {},
          "execution_count": 7
        }
      ],
      "source": [
        "# Shape of the dataset\n",
        "\n",
        "### YOUR CODE HERE ###\n",
        "companies.shape"
      ],
      "id": "df3c71a1-2519-4c50-86c2-63902a534d27"
    },
    {
      "cell_type": "markdown",
      "metadata": {
        "id": "4c2998a8-f864-43eb-a2d5-64845ebc805c"
      },
      "source": [
        "**Question:** What do you notice about the shape of the dataset?"
      ],
      "id": "4c2998a8-f864-43eb-a2d5-64845ebc805c"
    },
    {
      "cell_type": "markdown",
      "metadata": {
        "id": "2D8Ix19xlOHv"
      },
      "source": [
        "[Write your response here. Double-click (or enter) to edit.]"
      ],
      "id": "2D8Ix19xlOHv"
    },
    {
      "cell_type": "markdown",
      "metadata": {
        "id": "b9c8ecb7-c202-4d0a-92ad-b6b6737bc167"
      },
      "source": [
        "### Get basic information about the dataset\n",
        "\n",
        "To further understand what the dataset entails, get basic information about the dataset, including the data type of values in each column. There is more than one way to approach this task. In this instance, use the `info()` function from `pandas`."
      ],
      "id": "b9c8ecb7-c202-4d0a-92ad-b6b6737bc167"
    },
    {
      "cell_type": "code",
      "execution_count": 8,
      "metadata": {
        "id": "eedad8b8-ca45-430e-91d2-eff3ad66adaf",
        "colab": {
          "base_uri": "https://localhost:8080/"
        },
        "outputId": "033cd588-fe0b-4248-d1bf-808092f79d1c"
      },
      "outputs": [
        {
          "output_type": "stream",
          "name": "stdout",
          "text": [
            "<class 'pandas.core.frame.DataFrame'>\n",
            "RangeIndex: 1074 entries, 0 to 1073\n",
            "Data columns (total 10 columns):\n",
            " #   Column            Non-Null Count  Dtype \n",
            "---  ------            --------------  ----- \n",
            " 0   Company           1074 non-null   object\n",
            " 1   Valuation         1074 non-null   object\n",
            " 2   Date Joined       1074 non-null   object\n",
            " 3   Industry          1074 non-null   object\n",
            " 4   City              1058 non-null   object\n",
            " 5   Country/Region    1074 non-null   object\n",
            " 6   Continent         1074 non-null   object\n",
            " 7   Year Founded      1074 non-null   int64 \n",
            " 8   Funding           1074 non-null   object\n",
            " 9   Select Investors  1073 non-null   object\n",
            "dtypes: int64(1), object(9)\n",
            "memory usage: 84.0+ KB\n"
          ]
        }
      ],
      "source": [
        "# Get information\n",
        "\n",
        "### YOUR CODE HERE ###\n",
        "companies.info()"
      ],
      "id": "eedad8b8-ca45-430e-91d2-eff3ad66adaf"
    },
    {
      "cell_type": "markdown",
      "metadata": {
        "id": "bd6573bc-2adb-410e-a85c-d6d5886d51bf"
      },
      "source": [
        "**Question:** What do you notice about the type of data in the `Year Founded` column? Refer to the output from using `info()` above. Knowing the data type of this variable is helpful because it indicates what types of analysis can be done with that variable, how it can be aggregated with other variables, and so on."
      ],
      "id": "bd6573bc-2adb-410e-a85c-d6d5886d51bf"
    },
    {
      "cell_type": "markdown",
      "metadata": {
        "id": "z_zKTLpXlF3D"
      },
      "source": [
        "[dtype is integer]"
      ],
      "id": "z_zKTLpXlF3D"
    },
    {
      "cell_type": "markdown",
      "metadata": {
        "id": "e6da795c-331b-4271-9825-103112cb08da"
      },
      "source": [
        "**Question:** What do you notice about the type of data in the `Date Joined` column? Refer to the output from using `info()` above. Knowing the data type of this variable is helpful because it indicates what types of analysis can be done with that variable and how the variable can be transformed to suit specific tasks."
      ],
      "id": "e6da795c-331b-4271-9825-103112cb08da"
    },
    {
      "cell_type": "markdown",
      "metadata": {
        "id": "oS1P_JQNlMFQ"
      },
      "source": [
        "the time the company became unicorn is object"
      ],
      "id": "oS1P_JQNlMFQ"
    },
    {
      "cell_type": "markdown",
      "metadata": {
        "id": "XFkjw_Ke2Cjn"
      },
      "source": [
        "## Step 3: Statistical tests"
      ],
      "id": "XFkjw_Ke2Cjn"
    },
    {
      "cell_type": "markdown",
      "metadata": {
        "id": "7dac147e-19e1-49e7-bd80-e122390c3a70",
        "tags": []
      },
      "source": [
        "### Find descriptive statistics\n",
        "\n",
        "Find descriptive statistics and structure your dataset. The `describe()` function from the `pandas` library can help. This function generates statistics for the numeric columns in a dataset. "
      ],
      "id": "7dac147e-19e1-49e7-bd80-e122390c3a70"
    },
    {
      "cell_type": "code",
      "execution_count": 9,
      "metadata": {
        "id": "13f1c1dd-5637-4726-8fa0-2fbd838e4afa",
        "colab": {
          "base_uri": "https://localhost:8080/",
          "height": 300
        },
        "outputId": "95f1f4bf-bf68-4823-b3e5-97b33d4acaf3"
      },
      "outputs": [
        {
          "output_type": "execute_result",
          "data": {
            "text/plain": [
              "       Year Founded\n",
              "count   1074.000000\n",
              "mean    2012.895717\n",
              "std        5.698573\n",
              "min     1919.000000\n",
              "25%     2011.000000\n",
              "50%     2014.000000\n",
              "75%     2016.000000\n",
              "max     2021.000000"
            ],
            "text/html": [
              "\n",
              "  <div id=\"df-54270af8-f42c-4a4d-b3a6-2c1ac9129d56\">\n",
              "    <div class=\"colab-df-container\">\n",
              "      <div>\n",
              "<style scoped>\n",
              "    .dataframe tbody tr th:only-of-type {\n",
              "        vertical-align: middle;\n",
              "    }\n",
              "\n",
              "    .dataframe tbody tr th {\n",
              "        vertical-align: top;\n",
              "    }\n",
              "\n",
              "    .dataframe thead th {\n",
              "        text-align: right;\n",
              "    }\n",
              "</style>\n",
              "<table border=\"1\" class=\"dataframe\">\n",
              "  <thead>\n",
              "    <tr style=\"text-align: right;\">\n",
              "      <th></th>\n",
              "      <th>Year Founded</th>\n",
              "    </tr>\n",
              "  </thead>\n",
              "  <tbody>\n",
              "    <tr>\n",
              "      <th>count</th>\n",
              "      <td>1074.000000</td>\n",
              "    </tr>\n",
              "    <tr>\n",
              "      <th>mean</th>\n",
              "      <td>2012.895717</td>\n",
              "    </tr>\n",
              "    <tr>\n",
              "      <th>std</th>\n",
              "      <td>5.698573</td>\n",
              "    </tr>\n",
              "    <tr>\n",
              "      <th>min</th>\n",
              "      <td>1919.000000</td>\n",
              "    </tr>\n",
              "    <tr>\n",
              "      <th>25%</th>\n",
              "      <td>2011.000000</td>\n",
              "    </tr>\n",
              "    <tr>\n",
              "      <th>50%</th>\n",
              "      <td>2014.000000</td>\n",
              "    </tr>\n",
              "    <tr>\n",
              "      <th>75%</th>\n",
              "      <td>2016.000000</td>\n",
              "    </tr>\n",
              "    <tr>\n",
              "      <th>max</th>\n",
              "      <td>2021.000000</td>\n",
              "    </tr>\n",
              "  </tbody>\n",
              "</table>\n",
              "</div>\n",
              "      <button class=\"colab-df-convert\" onclick=\"convertToInteractive('df-54270af8-f42c-4a4d-b3a6-2c1ac9129d56')\"\n",
              "              title=\"Convert this dataframe to an interactive table.\"\n",
              "              style=\"display:none;\">\n",
              "        \n",
              "  <svg xmlns=\"http://www.w3.org/2000/svg\" height=\"24px\"viewBox=\"0 0 24 24\"\n",
              "       width=\"24px\">\n",
              "    <path d=\"M0 0h24v24H0V0z\" fill=\"none\"/>\n",
              "    <path d=\"M18.56 5.44l.94 2.06.94-2.06 2.06-.94-2.06-.94-.94-2.06-.94 2.06-2.06.94zm-11 1L8.5 8.5l.94-2.06 2.06-.94-2.06-.94L8.5 2.5l-.94 2.06-2.06.94zm10 10l.94 2.06.94-2.06 2.06-.94-2.06-.94-.94-2.06-.94 2.06-2.06.94z\"/><path d=\"M17.41 7.96l-1.37-1.37c-.4-.4-.92-.59-1.43-.59-.52 0-1.04.2-1.43.59L10.3 9.45l-7.72 7.72c-.78.78-.78 2.05 0 2.83L4 21.41c.39.39.9.59 1.41.59.51 0 1.02-.2 1.41-.59l7.78-7.78 2.81-2.81c.8-.78.8-2.07 0-2.86zM5.41 20L4 18.59l7.72-7.72 1.47 1.35L5.41 20z\"/>\n",
              "  </svg>\n",
              "      </button>\n",
              "      \n",
              "  <style>\n",
              "    .colab-df-container {\n",
              "      display:flex;\n",
              "      flex-wrap:wrap;\n",
              "      gap: 12px;\n",
              "    }\n",
              "\n",
              "    .colab-df-convert {\n",
              "      background-color: #E8F0FE;\n",
              "      border: none;\n",
              "      border-radius: 50%;\n",
              "      cursor: pointer;\n",
              "      display: none;\n",
              "      fill: #1967D2;\n",
              "      height: 32px;\n",
              "      padding: 0 0 0 0;\n",
              "      width: 32px;\n",
              "    }\n",
              "\n",
              "    .colab-df-convert:hover {\n",
              "      background-color: #E2EBFA;\n",
              "      box-shadow: 0px 1px 2px rgba(60, 64, 67, 0.3), 0px 1px 3px 1px rgba(60, 64, 67, 0.15);\n",
              "      fill: #174EA6;\n",
              "    }\n",
              "\n",
              "    [theme=dark] .colab-df-convert {\n",
              "      background-color: #3B4455;\n",
              "      fill: #D2E3FC;\n",
              "    }\n",
              "\n",
              "    [theme=dark] .colab-df-convert:hover {\n",
              "      background-color: #434B5C;\n",
              "      box-shadow: 0px 1px 3px 1px rgba(0, 0, 0, 0.15);\n",
              "      filter: drop-shadow(0px 1px 2px rgba(0, 0, 0, 0.3));\n",
              "      fill: #FFFFFF;\n",
              "    }\n",
              "  </style>\n",
              "\n",
              "      <script>\n",
              "        const buttonEl =\n",
              "          document.querySelector('#df-54270af8-f42c-4a4d-b3a6-2c1ac9129d56 button.colab-df-convert');\n",
              "        buttonEl.style.display =\n",
              "          google.colab.kernel.accessAllowed ? 'block' : 'none';\n",
              "\n",
              "        async function convertToInteractive(key) {\n",
              "          const element = document.querySelector('#df-54270af8-f42c-4a4d-b3a6-2c1ac9129d56');\n",
              "          const dataTable =\n",
              "            await google.colab.kernel.invokeFunction('convertToInteractive',\n",
              "                                                     [key], {});\n",
              "          if (!dataTable) return;\n",
              "\n",
              "          const docLinkHtml = 'Like what you see? Visit the ' +\n",
              "            '<a target=\"_blank\" href=https://colab.research.google.com/notebooks/data_table.ipynb>data table notebook</a>'\n",
              "            + ' to learn more about interactive tables.';\n",
              "          element.innerHTML = '';\n",
              "          dataTable['output_type'] = 'display_data';\n",
              "          await google.colab.output.renderOutput(dataTable, element);\n",
              "          const docLink = document.createElement('div');\n",
              "          docLink.innerHTML = docLinkHtml;\n",
              "          element.appendChild(docLink);\n",
              "        }\n",
              "      </script>\n",
              "    </div>\n",
              "  </div>\n",
              "  "
            ]
          },
          "metadata": {},
          "execution_count": 9
        }
      ],
      "source": [
        "# Get descriptive statistics\n",
        "\n",
        "### YOUR CODE HERE ###\n",
        "companies.describe()\n"
      ],
      "id": "13f1c1dd-5637-4726-8fa0-2fbd838e4afa"
    },
    {
      "cell_type": "markdown",
      "metadata": {
        "id": "a70475eb-d3a6-42e4-8b71-a49b5a1aa0db"
      },
      "source": [
        "**Question:** Based on the table of descriptive stats generated above, what do you notice about the minimum value in the `Year Founded` column? This is important to know because it helps you understand how early the entries in the data begin."
      ],
      "id": "a70475eb-d3a6-42e4-8b71-a49b5a1aa0db"
    },
    {
      "cell_type": "markdown",
      "metadata": {
        "id": "KoM_YE7TlSx7"
      },
      "source": [
        "Min value is 1919. This is the year oldest records exist. \n"
      ],
      "id": "KoM_YE7TlSx7"
    },
    {
      "cell_type": "markdown",
      "metadata": {
        "id": "390764a7-961c-4ec7-ae11-38943d94b788",
        "tags": []
      },
      "source": [
        "**Question:** What do you notice about the maximum value in the `Year Founded` column? This is important to know because it helps you understand the most recent year captured by the data. "
      ],
      "id": "390764a7-961c-4ec7-ae11-38943d94b788"
    },
    {
      "cell_type": "markdown",
      "metadata": {
        "id": "7HQWuLNhZXTZ"
      },
      "source": [
        "2021. This is the newest data."
      ],
      "id": "7HQWuLNhZXTZ"
    },
    {
      "cell_type": "markdown",
      "metadata": {
        "id": "94b53c7f-54d8-4d1a-ae07-7c28c2ab8f5b",
        "tags": []
      },
      "source": [
        "### Convert the `Date Joined` column to datetime\n",
        "\n",
        "Use the `to_datetime()` function from the `pandas` library  to convert the `Date Joined` column to datetime. This splits each value into year, month, and date components. This is an important step in data cleaning, as it makes the data in this column easier to use in tasks you may encounter. To name a few examples, you may need to compare \"date joined\" between companies or determine how long it took a company to become a unicorn. Having \"date joined\" in datetime form would help you complete such tasks."
      ],
      "id": "94b53c7f-54d8-4d1a-ae07-7c28c2ab8f5b"
    },
    {
      "cell_type": "code",
      "execution_count": 10,
      "metadata": {
        "id": "afe607c8-9dd7-47c3-9fc8-88772f015e2b"
      },
      "outputs": [],
      "source": [
        "# Step 1: Use pd.to_datetime() to convert Date Joined column to datetime \n",
        "# Step 2: Update the column with the converted values\n",
        "\n",
        "### YOUR CODE HERE ###\n",
        "companies[\"Date Joined\"] = pd.to_datetime(companies[\"Date Joined\"])\n"
      ],
      "id": "afe607c8-9dd7-47c3-9fc8-88772f015e2b"
    },
    {
      "cell_type": "code",
      "execution_count": 12,
      "metadata": {
        "id": "SBg22N43bA17",
        "colab": {
          "base_uri": "https://localhost:8080/"
        },
        "outputId": "55c51489-f074-420d-f0ed-d237e45a43d5"
      },
      "outputs": [
        {
          "output_type": "stream",
          "name": "stdout",
          "text": [
            "<class 'pandas.core.frame.DataFrame'>\n",
            "RangeIndex: 1074 entries, 0 to 1073\n",
            "Data columns (total 11 columns):\n",
            " #   Column            Non-Null Count  Dtype         \n",
            "---  ------            --------------  -----         \n",
            " 0   Company           1074 non-null   object        \n",
            " 1   Valuation         1074 non-null   object        \n",
            " 2   Date Joined       1074 non-null   datetime64[ns]\n",
            " 3   Industry          1074 non-null   object        \n",
            " 4   City              1058 non-null   object        \n",
            " 5   Country/Region    1074 non-null   object        \n",
            " 6   Continent         1074 non-null   object        \n",
            " 7   Year Founded      1074 non-null   int64         \n",
            " 8   Funding           1074 non-null   object        \n",
            " 9   Select Investors  1073 non-null   object        \n",
            " 10  Year Joined       1074 non-null   int64         \n",
            "dtypes: datetime64[ns](1), int64(2), object(8)\n",
            "memory usage: 92.4+ KB\n"
          ]
        }
      ],
      "source": [
        "# Use .info() to confirm that the update actually took place\n",
        "\n",
        "### YOUR CODE HERE ###\n",
        "companies.info()\n"
      ],
      "id": "SBg22N43bA17"
    },
    {
      "cell_type": "markdown",
      "metadata": {
        "id": "ae351a97-926e-40af-91e2-4bd12a5bf888",
        "tags": []
      },
      "source": [
        "### Create a `Year Joined` column\n",
        "\n",
        "It is common to encounter situations where you will need to compare the year joined with the year founded. The `Date Joined` column does not just have year—it has the year, month, and date. Extract the year component from the `Date Joined` column and add those year components into a new column to keep track of each company's year joined."
      ],
      "id": "ae351a97-926e-40af-91e2-4bd12a5bf888"
    },
    {
      "cell_type": "code",
      "execution_count": 13,
      "metadata": {
        "id": "7d8be21b-d625-4a8a-ad8b-a2e4ae7a2c4e"
      },
      "outputs": [],
      "source": [
        "# Step 1: Use .dt.year to extract year component from Date Joined column\n",
        "# Step 2: Add the result as a new column named Year Joined to the DataFrame\n",
        "\n",
        "### YOUR CODE HERE ###\n",
        "companies[\"Year Joined\"] = companies[\"Date Joined\"].dt.year"
      ],
      "id": "7d8be21b-d625-4a8a-ad8b-a2e4ae7a2c4e"
    },
    {
      "cell_type": "code",
      "execution_count": 14,
      "metadata": {
        "id": "eSycjkBTbQB4",
        "colab": {
          "base_uri": "https://localhost:8080/",
          "height": 206
        },
        "outputId": "7e10cf52-308f-4672-ef73-7f527e6e1c03"
      },
      "outputs": [
        {
          "output_type": "execute_result",
          "data": {
            "text/plain": [
              "     Company Valuation Date Joined                         Industry  \\\n",
              "0  Bytedance     $180B  2017-04-07          Artificial intelligence   \n",
              "1     SpaceX     $100B  2012-12-01                            Other   \n",
              "2      SHEIN     $100B  2018-07-03  E-commerce & direct-to-consumer   \n",
              "3     Stripe      $95B  2014-01-23                          Fintech   \n",
              "4     Klarna      $46B  2011-12-12                          Fintech   \n",
              "\n",
              "            City Country/Region      Continent  Year Founded Funding  \\\n",
              "0        Beijing          China           Asia          2012     $8B   \n",
              "1      Hawthorne  United States  North America          2002     $7B   \n",
              "2       Shenzhen          China           Asia          2008     $2B   \n",
              "3  San Francisco  United States  North America          2010     $2B   \n",
              "4      Stockholm         Sweden         Europe          2005     $4B   \n",
              "\n",
              "                                    Select Investors  Year Joined  \n",
              "0  Sequoia Capital China, SIG Asia Investments, S...         2017  \n",
              "1  Founders Fund, Draper Fisher Jurvetson, Rothen...         2012  \n",
              "2  Tiger Global Management, Sequoia Capital China...         2018  \n",
              "3        Khosla Ventures, LowercaseCapital, capitalG         2014  \n",
              "4  Institutional Venture Partners, Sequoia Capita...         2011  "
            ],
            "text/html": [
              "\n",
              "  <div id=\"df-c65889f6-ea83-4465-86dc-dee5da566b36\">\n",
              "    <div class=\"colab-df-container\">\n",
              "      <div>\n",
              "<style scoped>\n",
              "    .dataframe tbody tr th:only-of-type {\n",
              "        vertical-align: middle;\n",
              "    }\n",
              "\n",
              "    .dataframe tbody tr th {\n",
              "        vertical-align: top;\n",
              "    }\n",
              "\n",
              "    .dataframe thead th {\n",
              "        text-align: right;\n",
              "    }\n",
              "</style>\n",
              "<table border=\"1\" class=\"dataframe\">\n",
              "  <thead>\n",
              "    <tr style=\"text-align: right;\">\n",
              "      <th></th>\n",
              "      <th>Company</th>\n",
              "      <th>Valuation</th>\n",
              "      <th>Date Joined</th>\n",
              "      <th>Industry</th>\n",
              "      <th>City</th>\n",
              "      <th>Country/Region</th>\n",
              "      <th>Continent</th>\n",
              "      <th>Year Founded</th>\n",
              "      <th>Funding</th>\n",
              "      <th>Select Investors</th>\n",
              "      <th>Year Joined</th>\n",
              "    </tr>\n",
              "  </thead>\n",
              "  <tbody>\n",
              "    <tr>\n",
              "      <th>0</th>\n",
              "      <td>Bytedance</td>\n",
              "      <td>$180B</td>\n",
              "      <td>2017-04-07</td>\n",
              "      <td>Artificial intelligence</td>\n",
              "      <td>Beijing</td>\n",
              "      <td>China</td>\n",
              "      <td>Asia</td>\n",
              "      <td>2012</td>\n",
              "      <td>$8B</td>\n",
              "      <td>Sequoia Capital China, SIG Asia Investments, S...</td>\n",
              "      <td>2017</td>\n",
              "    </tr>\n",
              "    <tr>\n",
              "      <th>1</th>\n",
              "      <td>SpaceX</td>\n",
              "      <td>$100B</td>\n",
              "      <td>2012-12-01</td>\n",
              "      <td>Other</td>\n",
              "      <td>Hawthorne</td>\n",
              "      <td>United States</td>\n",
              "      <td>North America</td>\n",
              "      <td>2002</td>\n",
              "      <td>$7B</td>\n",
              "      <td>Founders Fund, Draper Fisher Jurvetson, Rothen...</td>\n",
              "      <td>2012</td>\n",
              "    </tr>\n",
              "    <tr>\n",
              "      <th>2</th>\n",
              "      <td>SHEIN</td>\n",
              "      <td>$100B</td>\n",
              "      <td>2018-07-03</td>\n",
              "      <td>E-commerce &amp; direct-to-consumer</td>\n",
              "      <td>Shenzhen</td>\n",
              "      <td>China</td>\n",
              "      <td>Asia</td>\n",
              "      <td>2008</td>\n",
              "      <td>$2B</td>\n",
              "      <td>Tiger Global Management, Sequoia Capital China...</td>\n",
              "      <td>2018</td>\n",
              "    </tr>\n",
              "    <tr>\n",
              "      <th>3</th>\n",
              "      <td>Stripe</td>\n",
              "      <td>$95B</td>\n",
              "      <td>2014-01-23</td>\n",
              "      <td>Fintech</td>\n",
              "      <td>San Francisco</td>\n",
              "      <td>United States</td>\n",
              "      <td>North America</td>\n",
              "      <td>2010</td>\n",
              "      <td>$2B</td>\n",
              "      <td>Khosla Ventures, LowercaseCapital, capitalG</td>\n",
              "      <td>2014</td>\n",
              "    </tr>\n",
              "    <tr>\n",
              "      <th>4</th>\n",
              "      <td>Klarna</td>\n",
              "      <td>$46B</td>\n",
              "      <td>2011-12-12</td>\n",
              "      <td>Fintech</td>\n",
              "      <td>Stockholm</td>\n",
              "      <td>Sweden</td>\n",
              "      <td>Europe</td>\n",
              "      <td>2005</td>\n",
              "      <td>$4B</td>\n",
              "      <td>Institutional Venture Partners, Sequoia Capita...</td>\n",
              "      <td>2011</td>\n",
              "    </tr>\n",
              "  </tbody>\n",
              "</table>\n",
              "</div>\n",
              "      <button class=\"colab-df-convert\" onclick=\"convertToInteractive('df-c65889f6-ea83-4465-86dc-dee5da566b36')\"\n",
              "              title=\"Convert this dataframe to an interactive table.\"\n",
              "              style=\"display:none;\">\n",
              "        \n",
              "  <svg xmlns=\"http://www.w3.org/2000/svg\" height=\"24px\"viewBox=\"0 0 24 24\"\n",
              "       width=\"24px\">\n",
              "    <path d=\"M0 0h24v24H0V0z\" fill=\"none\"/>\n",
              "    <path d=\"M18.56 5.44l.94 2.06.94-2.06 2.06-.94-2.06-.94-.94-2.06-.94 2.06-2.06.94zm-11 1L8.5 8.5l.94-2.06 2.06-.94-2.06-.94L8.5 2.5l-.94 2.06-2.06.94zm10 10l.94 2.06.94-2.06 2.06-.94-2.06-.94-.94-2.06-.94 2.06-2.06.94z\"/><path d=\"M17.41 7.96l-1.37-1.37c-.4-.4-.92-.59-1.43-.59-.52 0-1.04.2-1.43.59L10.3 9.45l-7.72 7.72c-.78.78-.78 2.05 0 2.83L4 21.41c.39.39.9.59 1.41.59.51 0 1.02-.2 1.41-.59l7.78-7.78 2.81-2.81c.8-.78.8-2.07 0-2.86zM5.41 20L4 18.59l7.72-7.72 1.47 1.35L5.41 20z\"/>\n",
              "  </svg>\n",
              "      </button>\n",
              "      \n",
              "  <style>\n",
              "    .colab-df-container {\n",
              "      display:flex;\n",
              "      flex-wrap:wrap;\n",
              "      gap: 12px;\n",
              "    }\n",
              "\n",
              "    .colab-df-convert {\n",
              "      background-color: #E8F0FE;\n",
              "      border: none;\n",
              "      border-radius: 50%;\n",
              "      cursor: pointer;\n",
              "      display: none;\n",
              "      fill: #1967D2;\n",
              "      height: 32px;\n",
              "      padding: 0 0 0 0;\n",
              "      width: 32px;\n",
              "    }\n",
              "\n",
              "    .colab-df-convert:hover {\n",
              "      background-color: #E2EBFA;\n",
              "      box-shadow: 0px 1px 2px rgba(60, 64, 67, 0.3), 0px 1px 3px 1px rgba(60, 64, 67, 0.15);\n",
              "      fill: #174EA6;\n",
              "    }\n",
              "\n",
              "    [theme=dark] .colab-df-convert {\n",
              "      background-color: #3B4455;\n",
              "      fill: #D2E3FC;\n",
              "    }\n",
              "\n",
              "    [theme=dark] .colab-df-convert:hover {\n",
              "      background-color: #434B5C;\n",
              "      box-shadow: 0px 1px 3px 1px rgba(0, 0, 0, 0.15);\n",
              "      filter: drop-shadow(0px 1px 2px rgba(0, 0, 0, 0.3));\n",
              "      fill: #FFFFFF;\n",
              "    }\n",
              "  </style>\n",
              "\n",
              "      <script>\n",
              "        const buttonEl =\n",
              "          document.querySelector('#df-c65889f6-ea83-4465-86dc-dee5da566b36 button.colab-df-convert');\n",
              "        buttonEl.style.display =\n",
              "          google.colab.kernel.accessAllowed ? 'block' : 'none';\n",
              "\n",
              "        async function convertToInteractive(key) {\n",
              "          const element = document.querySelector('#df-c65889f6-ea83-4465-86dc-dee5da566b36');\n",
              "          const dataTable =\n",
              "            await google.colab.kernel.invokeFunction('convertToInteractive',\n",
              "                                                     [key], {});\n",
              "          if (!dataTable) return;\n",
              "\n",
              "          const docLinkHtml = 'Like what you see? Visit the ' +\n",
              "            '<a target=\"_blank\" href=https://colab.research.google.com/notebooks/data_table.ipynb>data table notebook</a>'\n",
              "            + ' to learn more about interactive tables.';\n",
              "          element.innerHTML = '';\n",
              "          dataTable['output_type'] = 'display_data';\n",
              "          await google.colab.output.renderOutput(dataTable, element);\n",
              "          const docLink = document.createElement('div');\n",
              "          docLink.innerHTML = docLinkHtml;\n",
              "          element.appendChild(docLink);\n",
              "        }\n",
              "      </script>\n",
              "    </div>\n",
              "  </div>\n",
              "  "
            ]
          },
          "metadata": {},
          "execution_count": 14
        }
      ],
      "source": [
        "# Use .head() to confirm that the new column did get added\n",
        "\n",
        "### YOUR CODE HERE ###\n",
        "companies.head()\n"
      ],
      "id": "eSycjkBTbQB4"
    },
    {
      "cell_type": "markdown",
      "metadata": {
        "id": "B4_yxUrQ2Yhp"
      },
      "source": [
        "## Step 4: Results and evaluation\n"
      ],
      "id": "B4_yxUrQ2Yhp"
    },
    {
      "cell_type": "markdown",
      "metadata": {
        "id": "5a99bfd0-95e9-4ed3-a01a-2e430967f98e",
        "tags": []
      },
      "source": [
        "### Take a sample of the data\n",
        "\n",
        "It is not necessary to take a sample of the data in order to conduct the visualizations and EDA that follow. But you may encounter scenarios in the future where you will need to take a sample of the data due to time and resource limitations. For the purpose of developing your skills around sampling, take a sample of the data and work with that sample for the next steps of analysis you want to conduct. Use the `sample()` function for this task."
      ],
      "id": "5a99bfd0-95e9-4ed3-a01a-2e430967f98e"
    },
    {
      "cell_type": "code",
      "execution_count": 15,
      "metadata": {
        "id": "1e5df00e-d64f-417c-b7fc-311a960ecc8c",
        "colab": {
          "base_uri": "https://localhost:8080/",
          "height": 206
        },
        "outputId": "ebd788d1-f592-4143-bb56-a22b705bd4ff"
      },
      "outputs": [
        {
          "output_type": "execute_result",
          "data": {
            "text/plain": [
              "              Company Valuation Date Joined                         Industry  \\\n",
              "542             Aiven       $2B  2021-10-18     Internet software & services   \n",
              "370  Jusfoun Big Data       $2B  2018-07-09      Data management & analytics   \n",
              "307        Innovaccer       $3B  2021-02-19                           Health   \n",
              "493           Algolia       $2B  2021-07-28     Internet software & services   \n",
              "350   SouChe Holdings       $3B  2017-11-01  E-commerce & direct-to-consumer   \n",
              "\n",
              "              City Country/Region      Continent  Year Founded Funding  \\\n",
              "542       Helsinki        Finland         Europe          2016   $210M   \n",
              "370        Beijing          China           Asia          2010   $137M   \n",
              "307  San Francisco  United States  North America          2014   $379M   \n",
              "493  San Francisco  United States  North America          2012   $334M   \n",
              "350       Hangzhou          China           Asia          2012     $1B   \n",
              "\n",
              "                                      Select Investors  Year Joined  \n",
              "542  Institutional Venture Partners, Atomico, Early...         2021  \n",
              "370    Boxin Capital, DT Capital Partners, IDG Capital         2018  \n",
              "307  M12, WestBridge Capital, Lightspeed Venture Pa...         2021  \n",
              "493               Accel, Alven Capital, Storm Ventures         2021  \n",
              "350  Morningside Ventures, Warburg Pincus, CreditEa...         2017  "
            ],
            "text/html": [
              "\n",
              "  <div id=\"df-790f60d9-a9ab-436a-b9f1-3381ee2dfbf5\">\n",
              "    <div class=\"colab-df-container\">\n",
              "      <div>\n",
              "<style scoped>\n",
              "    .dataframe tbody tr th:only-of-type {\n",
              "        vertical-align: middle;\n",
              "    }\n",
              "\n",
              "    .dataframe tbody tr th {\n",
              "        vertical-align: top;\n",
              "    }\n",
              "\n",
              "    .dataframe thead th {\n",
              "        text-align: right;\n",
              "    }\n",
              "</style>\n",
              "<table border=\"1\" class=\"dataframe\">\n",
              "  <thead>\n",
              "    <tr style=\"text-align: right;\">\n",
              "      <th></th>\n",
              "      <th>Company</th>\n",
              "      <th>Valuation</th>\n",
              "      <th>Date Joined</th>\n",
              "      <th>Industry</th>\n",
              "      <th>City</th>\n",
              "      <th>Country/Region</th>\n",
              "      <th>Continent</th>\n",
              "      <th>Year Founded</th>\n",
              "      <th>Funding</th>\n",
              "      <th>Select Investors</th>\n",
              "      <th>Year Joined</th>\n",
              "    </tr>\n",
              "  </thead>\n",
              "  <tbody>\n",
              "    <tr>\n",
              "      <th>542</th>\n",
              "      <td>Aiven</td>\n",
              "      <td>$2B</td>\n",
              "      <td>2021-10-18</td>\n",
              "      <td>Internet software &amp; services</td>\n",
              "      <td>Helsinki</td>\n",
              "      <td>Finland</td>\n",
              "      <td>Europe</td>\n",
              "      <td>2016</td>\n",
              "      <td>$210M</td>\n",
              "      <td>Institutional Venture Partners, Atomico, Early...</td>\n",
              "      <td>2021</td>\n",
              "    </tr>\n",
              "    <tr>\n",
              "      <th>370</th>\n",
              "      <td>Jusfoun Big Data</td>\n",
              "      <td>$2B</td>\n",
              "      <td>2018-07-09</td>\n",
              "      <td>Data management &amp; analytics</td>\n",
              "      <td>Beijing</td>\n",
              "      <td>China</td>\n",
              "      <td>Asia</td>\n",
              "      <td>2010</td>\n",
              "      <td>$137M</td>\n",
              "      <td>Boxin Capital, DT Capital Partners, IDG Capital</td>\n",
              "      <td>2018</td>\n",
              "    </tr>\n",
              "    <tr>\n",
              "      <th>307</th>\n",
              "      <td>Innovaccer</td>\n",
              "      <td>$3B</td>\n",
              "      <td>2021-02-19</td>\n",
              "      <td>Health</td>\n",
              "      <td>San Francisco</td>\n",
              "      <td>United States</td>\n",
              "      <td>North America</td>\n",
              "      <td>2014</td>\n",
              "      <td>$379M</td>\n",
              "      <td>M12, WestBridge Capital, Lightspeed Venture Pa...</td>\n",
              "      <td>2021</td>\n",
              "    </tr>\n",
              "    <tr>\n",
              "      <th>493</th>\n",
              "      <td>Algolia</td>\n",
              "      <td>$2B</td>\n",
              "      <td>2021-07-28</td>\n",
              "      <td>Internet software &amp; services</td>\n",
              "      <td>San Francisco</td>\n",
              "      <td>United States</td>\n",
              "      <td>North America</td>\n",
              "      <td>2012</td>\n",
              "      <td>$334M</td>\n",
              "      <td>Accel, Alven Capital, Storm Ventures</td>\n",
              "      <td>2021</td>\n",
              "    </tr>\n",
              "    <tr>\n",
              "      <th>350</th>\n",
              "      <td>SouChe Holdings</td>\n",
              "      <td>$3B</td>\n",
              "      <td>2017-11-01</td>\n",
              "      <td>E-commerce &amp; direct-to-consumer</td>\n",
              "      <td>Hangzhou</td>\n",
              "      <td>China</td>\n",
              "      <td>Asia</td>\n",
              "      <td>2012</td>\n",
              "      <td>$1B</td>\n",
              "      <td>Morningside Ventures, Warburg Pincus, CreditEa...</td>\n",
              "      <td>2017</td>\n",
              "    </tr>\n",
              "  </tbody>\n",
              "</table>\n",
              "</div>\n",
              "      <button class=\"colab-df-convert\" onclick=\"convertToInteractive('df-790f60d9-a9ab-436a-b9f1-3381ee2dfbf5')\"\n",
              "              title=\"Convert this dataframe to an interactive table.\"\n",
              "              style=\"display:none;\">\n",
              "        \n",
              "  <svg xmlns=\"http://www.w3.org/2000/svg\" height=\"24px\"viewBox=\"0 0 24 24\"\n",
              "       width=\"24px\">\n",
              "    <path d=\"M0 0h24v24H0V0z\" fill=\"none\"/>\n",
              "    <path d=\"M18.56 5.44l.94 2.06.94-2.06 2.06-.94-2.06-.94-.94-2.06-.94 2.06-2.06.94zm-11 1L8.5 8.5l.94-2.06 2.06-.94-2.06-.94L8.5 2.5l-.94 2.06-2.06.94zm10 10l.94 2.06.94-2.06 2.06-.94-2.06-.94-.94-2.06-.94 2.06-2.06.94z\"/><path d=\"M17.41 7.96l-1.37-1.37c-.4-.4-.92-.59-1.43-.59-.52 0-1.04.2-1.43.59L10.3 9.45l-7.72 7.72c-.78.78-.78 2.05 0 2.83L4 21.41c.39.39.9.59 1.41.59.51 0 1.02-.2 1.41-.59l7.78-7.78 2.81-2.81c.8-.78.8-2.07 0-2.86zM5.41 20L4 18.59l7.72-7.72 1.47 1.35L5.41 20z\"/>\n",
              "  </svg>\n",
              "      </button>\n",
              "      \n",
              "  <style>\n",
              "    .colab-df-container {\n",
              "      display:flex;\n",
              "      flex-wrap:wrap;\n",
              "      gap: 12px;\n",
              "    }\n",
              "\n",
              "    .colab-df-convert {\n",
              "      background-color: #E8F0FE;\n",
              "      border: none;\n",
              "      border-radius: 50%;\n",
              "      cursor: pointer;\n",
              "      display: none;\n",
              "      fill: #1967D2;\n",
              "      height: 32px;\n",
              "      padding: 0 0 0 0;\n",
              "      width: 32px;\n",
              "    }\n",
              "\n",
              "    .colab-df-convert:hover {\n",
              "      background-color: #E2EBFA;\n",
              "      box-shadow: 0px 1px 2px rgba(60, 64, 67, 0.3), 0px 1px 3px 1px rgba(60, 64, 67, 0.15);\n",
              "      fill: #174EA6;\n",
              "    }\n",
              "\n",
              "    [theme=dark] .colab-df-convert {\n",
              "      background-color: #3B4455;\n",
              "      fill: #D2E3FC;\n",
              "    }\n",
              "\n",
              "    [theme=dark] .colab-df-convert:hover {\n",
              "      background-color: #434B5C;\n",
              "      box-shadow: 0px 1px 3px 1px rgba(0, 0, 0, 0.15);\n",
              "      filter: drop-shadow(0px 1px 2px rgba(0, 0, 0, 0.3));\n",
              "      fill: #FFFFFF;\n",
              "    }\n",
              "  </style>\n",
              "\n",
              "      <script>\n",
              "        const buttonEl =\n",
              "          document.querySelector('#df-790f60d9-a9ab-436a-b9f1-3381ee2dfbf5 button.colab-df-convert');\n",
              "        buttonEl.style.display =\n",
              "          google.colab.kernel.accessAllowed ? 'block' : 'none';\n",
              "\n",
              "        async function convertToInteractive(key) {\n",
              "          const element = document.querySelector('#df-790f60d9-a9ab-436a-b9f1-3381ee2dfbf5');\n",
              "          const dataTable =\n",
              "            await google.colab.kernel.invokeFunction('convertToInteractive',\n",
              "                                                     [key], {});\n",
              "          if (!dataTable) return;\n",
              "\n",
              "          const docLinkHtml = 'Like what you see? Visit the ' +\n",
              "            '<a target=\"_blank\" href=https://colab.research.google.com/notebooks/data_table.ipynb>data table notebook</a>'\n",
              "            + ' to learn more about interactive tables.';\n",
              "          element.innerHTML = '';\n",
              "          dataTable['output_type'] = 'display_data';\n",
              "          await google.colab.output.renderOutput(dataTable, element);\n",
              "          const docLink = document.createElement('div');\n",
              "          docLink.innerHTML = docLinkHtml;\n",
              "          element.appendChild(docLink);\n",
              "        }\n",
              "      </script>\n",
              "    </div>\n",
              "  </div>\n",
              "  "
            ]
          },
          "metadata": {},
          "execution_count": 15
        }
      ],
      "source": [
        "# Step 1: Use sample() with the n parameter set to 50 to randomly sample 50 unicorn companies from the data. \n",
        "# Specify the random_state parameter so that if you run this cell multiple times, you get the same sample each time. \n",
        "# Step 2: Save the result in a new variable.\n",
        "\n",
        "### YOUR CODE HERE ###\n",
        "companies_sample = companies.sample(n = 50, random_state = 42)\n",
        "\n",
        "\n",
        "companies_sample.head()\n"
      ],
      "id": "1e5df00e-d64f-417c-b7fc-311a960ecc8c"
    },
    {
      "cell_type": "markdown",
      "metadata": {
        "id": "10beff64-16e0-464d-93f0-03ab61f7069b",
        "tags": []
      },
      "source": [
        "### Visualize the time it took companies to reach unicorn status\n",
        "\n",
        "Visualize the longest time it took companies to reach unicorn status for each industry represented in the sample. To create a bar plot to visualize this, use the `bar()` function from the `matplotlib.pyplot` module."
      ],
      "id": "10beff64-16e0-464d-93f0-03ab61f7069b"
    },
    {
      "cell_type": "code",
      "execution_count": 45,
      "metadata": {
        "id": "1153ca76-f1e3-4fea-a2db-a5de23614abd",
        "colab": {
          "base_uri": "https://localhost:8080/",
          "height": 936
        },
        "outputId": "ecb96c97-351f-4cfe-b239-f001dd00c791"
      },
      "outputs": [
        {
          "output_type": "display_data",
          "data": {
            "text/plain": [
              "<Figure size 2000x800 with 1 Axes>"
            ],
            "image/png": "[encoded data removed]"
          },
          "metadata": {}
        }
      ],
      "source": [
        "# Create bar plot\n",
        "# with Industry column as the categories of the bars\n",
        "# and the difference in years between Year Joined column and Year Founded column as the heights of the bars\n",
        "\n",
        "### YOUR CODE HERE ###\n",
        "import matplotlib.pyplot as plt\n",
        "\n",
        "\n",
        "# create a bar plot\n",
        "plt.figure(figsize=(20, 8))\n",
        "plt.bar(companies_sample[\"Industry\"],companies_sample[\"Year Joined\"]-companies_sample[\"Year Founded\"],width=0.8)\n",
        "plt.xticks(rotation=75)\n",
        "\n",
        "\n",
        "\n",
        "\n",
        "plt.ylabel(\"years\")\n",
        "plt.xlabel(\"Industries\")\n",
        "plt.show()\n"
      ],
      "id": "1153ca76-f1e3-4fea-a2db-a5de23614abd"
    },
    {
      "cell_type": "markdown",
      "metadata": {
        "id": "BtgkB4fVudvo",
        "jp-MarkdownHeadingCollapsed": true,
        "tags": []
      },
      "source": [
        "<details>\n",
        "  <summary><h4><strong>Hint 1</strong></h4></summary>\n",
        "\n",
        "Refer to what you have learned about creating bar plots as part of [exploratory data analysis](https://www.coursera.org/learn/go-beyond-the-numbers-translate-data-into-insight/lecture/4k4Vg/eda-using-basic-data-functions-with-python).\n",
        "\n",
        "</details>"
      ],
      "id": "BtgkB4fVudvo"
    },
    {
      "cell_type": "markdown",
      "metadata": {
        "id": "bHCMc83Nudvq",
        "jp-MarkdownHeadingCollapsed": true,
        "tags": []
      },
      "source": [
        "<details>\n",
        "  <summary><h4><strong>Hint 2</strong></h4></summary>\n",
        "\n",
        "There is a function in the `matplotlib.pyplot` module that allows you to create a bar plot, specifying the category and height for each bar. \n",
        "\n",
        "There are functions in the `matplotlib.pyplot` module that allow you to set the title, x-axis label, and y-axis label of plots. In that module, there are also functions for rotating the labels on the x-axis and displaying the plot. \n",
        "\n",
        "</details>"
      ],
      "id": "bHCMc83Nudvq"
    },
    {
      "cell_type": "markdown",
      "metadata": {
        "id": "ttH8ynAyudvr",
        "jp-MarkdownHeadingCollapsed": true,
        "tags": []
      },
      "source": [
        "<details>\n",
        "  <summary><h4><strong>Hint 3</strong></h4></summary>\n",
        "\n",
        "You can use the `plt.bar()` to create the bar plot, passing in the categories and heights of the bars.\n",
        "\n",
        "You can use `plt.title()`, `plt.xlabel()`, and `plt.ylabel()` to set the title, x-axis label, and y-axis label, respectively. \n",
        "\n",
        "You can use `plt.xticks()` to rotate labels on the x-axis of a plot. The parameters `rotation=45, horizontalalignment='right'` can be passed in to rotate the labels by 45 degrees and align the labels to the right. \n",
        "\n",
        "You can use `plt.show()` to display a plot.\n",
        "\n",
        "</details>"
      ],
      "id": "ttH8ynAyudvr"
    },
    {
      "cell_type": "markdown",
      "metadata": {
        "id": "59a1254d-4c99-49a6-b8fa-8dbd26bff000"
      },
      "source": [
        "**Question:** What do you observe from this bar plot?"
      ],
      "id": "59a1254d-4c99-49a6-b8fa-8dbd26bff000"
    },
    {
      "cell_type": "markdown",
      "metadata": {
        "id": "QNdABMI_lUdO"
      },
      "source": [
        "saglik ve finteck en uzun sure, consumer/retail ve auto/tras en kisa surede uniqorn oluyor^sektor olarak"
      ],
      "id": "QNdABMI_lUdO"
    },
    {
      "cell_type": "markdown",
      "metadata": {
        "id": "95bc4742-40ff-4f02-ba94-b25f95094e54",
        "tags": []
      },
      "source": [
        "### Visualize the maximum unicorn company valuation per industry\n",
        "\n",
        "Visualize unicorn companies' maximum valuation for each industry represented in the sample. To create a bar plot to visualize this, use the `bar()` function from the `matplotlib.pyplot` module. Before plotting, create a new column that represents the companies' valuations as numbers (instead of strings, as they're currently represented). Then, use this new column to plot your data."
      ],
      "id": "95bc4742-40ff-4f02-ba94-b25f95094e54"
    },
    {
      "cell_type": "code",
      "execution_count": null,
      "metadata": {
        "id": "SerMLxjBEAqs"
      },
      "outputs": [],
      "source": [
        "# Create a column representing company valuation as numeric data"
      ],
      "id": "SerMLxjBEAqs"
    },
    {
      "cell_type": "code",
      "execution_count": 48,
      "metadata": {
        "id": "5ccf1d5e-877e-4e73-bba8-23875c72494d",
        "colab": {
          "base_uri": "https://localhost:8080/",
          "height": 392
        },
        "outputId": "64dd2e4e-ea5d-45ef-9097-f654d4383e50"
      },
      "outputs": [
        {
          "output_type": "stream",
          "name": "stderr",
          "text": [
            "<ipython-input-48-c5e4ccfd51c5>:10: FutureWarning: The default value of regex will change from True to False in a future version. In addition, single character regular expressions will *not* be treated as literal strings when regex=True.\n",
            "  companies_sample[\"Valuation Billions\"] = companies_sample[\"Valuation\"].str.replace('$', '').str.replace('B', '').astype('int')\n"
          ]
        },
        {
          "output_type": "execute_result",
          "data": {
            "text/plain": [
              "              Company Valuation Date Joined                         Industry  \\\n",
              "542             Aiven       $2B  2021-10-18     Internet software & services   \n",
              "370  Jusfoun Big Data       $2B  2018-07-09      Data management & analytics   \n",
              "307        Innovaccer       $3B  2021-02-19                           Health   \n",
              "493           Algolia       $2B  2021-07-28     Internet software & services   \n",
              "350   SouChe Holdings       $3B  2017-11-01  E-commerce & direct-to-consumer   \n",
              "\n",
              "              City Country/Region      Continent  Year Founded Funding  \\\n",
              "542       Helsinki        Finland         Europe          2016   $210M   \n",
              "370        Beijing          China           Asia          2010   $137M   \n",
              "307  San Francisco  United States  North America          2014   $379M   \n",
              "493  San Francisco  United States  North America          2012   $334M   \n",
              "350       Hangzhou          China           Asia          2012     $1B   \n",
              "\n",
              "                                      Select Investors  Year Joined  \\\n",
              "542  Institutional Venture Partners, Atomico, Early...         2021   \n",
              "370    Boxin Capital, DT Capital Partners, IDG Capital         2018   \n",
              "307  M12, WestBridge Capital, Lightspeed Venture Pa...         2021   \n",
              "493               Accel, Alven Capital, Storm Ventures         2021   \n",
              "350  Morningside Ventures, Warburg Pincus, CreditEa...         2017   \n",
              "\n",
              "     Valuation Billions  \n",
              "542                   2  \n",
              "370                   2  \n",
              "307                   3  \n",
              "493                   2  \n",
              "350                   3  "
            ],
            "text/html": [
              "\n",
              "  <div id=\"df-f5e82643-e773-417c-adf4-761d2309f8df\">\n",
              "    <div class=\"colab-df-container\">\n",
              "      <div>\n",
              "<style scoped>\n",
              "    .dataframe tbody tr th:only-of-type {\n",
              "        vertical-align: middle;\n",
              "    }\n",
              "\n",
              "    .dataframe tbody tr th {\n",
              "        vertical-align: top;\n",
              "    }\n",
              "\n",
              "    .dataframe thead th {\n",
              "        text-align: right;\n",
              "    }\n",
              "</style>\n",
              "<table border=\"1\" class=\"dataframe\">\n",
              "  <thead>\n",
              "    <tr style=\"text-align: right;\">\n",
              "      <th></th>\n",
              "      <th>Company</th>\n",
              "      <th>Valuation</th>\n",
              "      <th>Date Joined</th>\n",
              "      <th>Industry</th>\n",
              "      <th>City</th>\n",
              "      <th>Country/Region</th>\n",
              "      <th>Continent</th>\n",
              "      <th>Year Founded</th>\n",
              "      <th>Funding</th>\n",
              "      <th>Select Investors</th>\n",
              "      <th>Year Joined</th>\n",
              "      <th>Valuation Billions</th>\n",
              "    </tr>\n",
              "  </thead>\n",
              "  <tbody>\n",
              "    <tr>\n",
              "      <th>542</th>\n",
              "      <td>Aiven</td>\n",
              "      <td>$2B</td>\n",
              "      <td>2021-10-18</td>\n",
              "      <td>Internet software &amp; services</td>\n",
              "      <td>Helsinki</td>\n",
              "      <td>Finland</td>\n",
              "      <td>Europe</td>\n",
              "      <td>2016</td>\n",
              "      <td>$210M</td>\n",
              "      <td>Institutional Venture Partners, Atomico, Early...</td>\n",
              "      <td>2021</td>\n",
              "      <td>2</td>\n",
              "    </tr>\n",
              "    <tr>\n",
              "      <th>370</th>\n",
              "      <td>Jusfoun Big Data</td>\n",
              "      <td>$2B</td>\n",
              "      <td>2018-07-09</td>\n",
              "      <td>Data management &amp; analytics</td>\n",
              "      <td>Beijing</td>\n",
              "      <td>China</td>\n",
              "      <td>Asia</td>\n",
              "      <td>2010</td>\n",
              "      <td>$137M</td>\n",
              "      <td>Boxin Capital, DT Capital Partners, IDG Capital</td>\n",
              "      <td>2018</td>\n",
              "      <td>2</td>\n",
              "    </tr>\n",
              "    <tr>\n",
              "      <th>307</th>\n",
              "      <td>Innovaccer</td>\n",
              "      <td>$3B</td>\n",
              "      <td>2021-02-19</td>\n",
              "      <td>Health</td>\n",
              "      <td>San Francisco</td>\n",
              "      <td>United States</td>\n",
              "      <td>North America</td>\n",
              "      <td>2014</td>\n",
              "      <td>$379M</td>\n",
              "      <td>M12, WestBridge Capital, Lightspeed Venture Pa...</td>\n",
              "      <td>2021</td>\n",
              "      <td>3</td>\n",
              "    </tr>\n",
              "    <tr>\n",
              "      <th>493</th>\n",
              "      <td>Algolia</td>\n",
              "      <td>$2B</td>\n",
              "      <td>2021-07-28</td>\n",
              "      <td>Internet software &amp; services</td>\n",
              "      <td>San Francisco</td>\n",
              "      <td>United States</td>\n",
              "      <td>North America</td>\n",
              "      <td>2012</td>\n",
              "      <td>$334M</td>\n",
              "      <td>Accel, Alven Capital, Storm Ventures</td>\n",
              "      <td>2021</td>\n",
              "      <td>2</td>\n",
              "    </tr>\n",
              "    <tr>\n",
              "      <th>350</th>\n",
              "      <td>SouChe Holdings</td>\n",
              "      <td>$3B</td>\n",
              "      <td>2017-11-01</td>\n",
              "      <td>E-commerce &amp; direct-to-consumer</td>\n",
              "      <td>Hangzhou</td>\n",
              "      <td>China</td>\n",
              "      <td>Asia</td>\n",
              "      <td>2012</td>\n",
              "      <td>$1B</td>\n",
              "      <td>Morningside Ventures, Warburg Pincus, CreditEa...</td>\n",
              "      <td>2017</td>\n",
              "      <td>3</td>\n",
              "    </tr>\n",
              "  </tbody>\n",
              "</table>\n",
              "</div>\n",
              "      <button class=\"colab-df-convert\" onclick=\"convertToInteractive('df-f5e82643-e773-417c-adf4-761d2309f8df')\"\n",
              "              title=\"Convert this dataframe to an interactive table.\"\n",
              "              style=\"display:none;\">\n",
              "        \n",
              "  <svg xmlns=\"http://www.w3.org/2000/svg\" height=\"24px\"viewBox=\"0 0 24 24\"\n",
              "       width=\"24px\">\n",
              "    <path d=\"M0 0h24v24H0V0z\" fill=\"none\"/>\n",
              "    <path d=\"M18.56 5.44l.94 2.06.94-2.06 2.06-.94-2.06-.94-.94-2.06-.94 2.06-2.06.94zm-11 1L8.5 8.5l.94-2.06 2.06-.94-2.06-.94L8.5 2.5l-.94 2.06-2.06.94zm10 10l.94 2.06.94-2.06 2.06-.94-2.06-.94-.94-2.06-.94 2.06-2.06.94z\"/><path d=\"M17.41 7.96l-1.37-1.37c-.4-.4-.92-.59-1.43-.59-.52 0-1.04.2-1.43.59L10.3 9.45l-7.72 7.72c-.78.78-.78 2.05 0 2.83L4 21.41c.39.39.9.59 1.41.59.51 0 1.02-.2 1.41-.59l7.78-7.78 2.81-2.81c.8-.78.8-2.07 0-2.86zM5.41 20L4 18.59l7.72-7.72 1.47 1.35L5.41 20z\"/>\n",
              "  </svg>\n",
              "      </button>\n",
              "      \n",
              "  <style>\n",
              "    .colab-df-container {\n",
              "      display:flex;\n",
              "      flex-wrap:wrap;\n",
              "      gap: 12px;\n",
              "    }\n",
              "\n",
              "    .colab-df-convert {\n",
              "      background-color: #E8F0FE;\n",
              "      border: none;\n",
              "      border-radius: 50%;\n",
              "      cursor: pointer;\n",
              "      display: none;\n",
              "      fill: #1967D2;\n",
              "      height: 32px;\n",
              "      padding: 0 0 0 0;\n",
              "      width: 32px;\n",
              "    }\n",
              "\n",
              "    .colab-df-convert:hover {\n",
              "      background-color: #E2EBFA;\n",
              "      box-shadow: 0px 1px 2px rgba(60, 64, 67, 0.3), 0px 1px 3px 1px rgba(60, 64, 67, 0.15);\n",
              "      fill: #174EA6;\n",
              "    }\n",
              "\n",
              "    [theme=dark] .colab-df-convert {\n",
              "      background-color: #3B4455;\n",
              "      fill: #D2E3FC;\n",
              "    }\n",
              "\n",
              "    [theme=dark] .colab-df-convert:hover {\n",
              "      background-color: #434B5C;\n",
              "      box-shadow: 0px 1px 3px 1px rgba(0, 0, 0, 0.15);\n",
              "      filter: drop-shadow(0px 1px 2px rgba(0, 0, 0, 0.3));\n",
              "      fill: #FFFFFF;\n",
              "    }\n",
              "  </style>\n",
              "\n",
              "      <script>\n",
              "        const buttonEl =\n",
              "          document.querySelector('#df-f5e82643-e773-417c-adf4-761d2309f8df button.colab-df-convert');\n",
              "        buttonEl.style.display =\n",
              "          google.colab.kernel.accessAllowed ? 'block' : 'none';\n",
              "\n",
              "        async function convertToInteractive(key) {\n",
              "          const element = document.querySelector('#df-f5e82643-e773-417c-adf4-761d2309f8df');\n",
              "          const dataTable =\n",
              "            await google.colab.kernel.invokeFunction('convertToInteractive',\n",
              "                                                     [key], {});\n",
              "          if (!dataTable) return;\n",
              "\n",
              "          const docLinkHtml = 'Like what you see? Visit the ' +\n",
              "            '<a target=\"_blank\" href=https://colab.research.google.com/notebooks/data_table.ipynb>data table notebook</a>'\n",
              "            + ' to learn more about interactive tables.';\n",
              "          element.innerHTML = '';\n",
              "          dataTable['output_type'] = 'display_data';\n",
              "          await google.colab.output.renderOutput(dataTable, element);\n",
              "          const docLink = document.createElement('div');\n",
              "          docLink.innerHTML = docLinkHtml;\n",
              "          element.appendChild(docLink);\n",
              "        }\n",
              "      </script>\n",
              "    </div>\n",
              "  </div>\n",
              "  "
            ]
          },
          "metadata": {},
          "execution_count": 48
        },
        {
          "output_type": "display_data",
          "data": {
            "text/plain": [
              "<Figure size 2000x800 with 0 Axes>"
            ]
          },
          "metadata": {}
        }
      ],
      "source": [
        "# Create bar plot\n",
        "# with Industry column as the categories of the bars\n",
        "# and new valuation column as the heights of the bars\n",
        "\n",
        "## YOUR CODE HERE ###\n",
        "import matplotlib.pyplot as plt\n",
        "\n",
        "# create a bar plot\n",
        "plt.figure(figsize=(20, 8))\n",
        "companies_sample[\"Valuation Billions\"] = companies_sample[\"Valuation\"].str.replace('$', '').str.replace('B', '').astype('int')\n",
        "companies_sample.head()\n",
        "\n",
        "\n",
        "\n",
        "\n",
        "\n",
        "\n",
        "\n"
      ],
      "id": "5ccf1d5e-877e-4e73-bba8-23875c72494d"
    },
    {
      "cell_type": "markdown",
      "metadata": {
        "id": "NnL6YrfFoA3G",
        "jp-MarkdownHeadingCollapsed": true,
        "tags": []
      },
      "source": [
        "<details>\n",
        "  <summary><h4><strong>Hint 1</strong></h4></summary>\n",
        "\n",
        "Refer to what you have learned about creating bar plots as part of [exploratory data analysis](https://www.coursera.org/learn/go-beyond-the-numbers-translate-data-into-insight/lecture/4k4Vg/eda-using-basic-data-functions-with-python).\n",
        "\n",
        "</details>"
      ],
      "id": "NnL6YrfFoA3G"
    },
    {
      "cell_type": "markdown",
      "metadata": {
        "id": "bo8rC9dZoA3H",
        "jp-MarkdownHeadingCollapsed": true,
        "tags": []
      },
      "source": [
        "<details>\n",
        "  <summary><h4><strong>Hint 2</strong></h4></summary>\n",
        "\n",
        "Use the function in the `matplotlib.pyplot` module that allows you to create a bar plot, specifying the category and height for each bar. \n",
        "\n",
        "Use the functions in the `matplotlib.pyplot` module that allow you to set the title, x-axis label, and y-axis label of plots. In that module, there are also functions for rotating the labels on the x-axis and displaying the plot. \n",
        "\n",
        "</details>"
      ],
      "id": "bo8rC9dZoA3H"
    },
    {
      "cell_type": "markdown",
      "metadata": {
        "id": "TkeTAsUooA3J",
        "jp-MarkdownHeadingCollapsed": true,
        "tags": []
      },
      "source": [
        "<details>\n",
        "  <summary><h4><strong>Hint 3</strong></h4></summary>\n",
        "\n",
        "Use the `plt.bar()` to create the bar plot, passing in the categories and heights of the bars.\n",
        "\n",
        "Use `plt.title()`, `plt.xlabel()`, and `plt.ylabel()` to set the title, x-axis label, and y-axis label, respectively. \n",
        "\n",
        "Use `plt.xticks()` to rotate labels on the x-axis of a plot. The parameters `rotation=45, horizontalalignment='right'` can be passed in to rotate the labels by 45 degrees and align the labels to the right. \n",
        "\n",
        "Use `plt.show()` to display a plot.\n",
        "\n",
        "</details>"
      ],
      "id": "TkeTAsUooA3J"
    },
    {
      "cell_type": "markdown",
      "metadata": {
        "id": "441c0e4b-56bf-413c-9d40-abe1e5f13253"
      },
      "source": [
        "**Question:** What do you observe from this bar plot? "
      ],
      "id": "441c0e4b-56bf-413c-9d40-abe1e5f13253"
    },
    {
      "cell_type": "markdown",
      "metadata": {
        "id": "p_XNHFiPlVvA"
      },
      "source": [
        "[Write your response here. Double-click (or enter) to edit.]"
      ],
      "id": "p_XNHFiPlVvA"
    },
    {
      "cell_type": "markdown",
      "metadata": {
        "id": "c77e7f0f-d2b9-4464-8a7c-9575d1e1ef9f"
      },
      "source": [
        "## Considerations"
      ],
      "id": "c77e7f0f-d2b9-4464-8a7c-9575d1e1ef9f"
    },
    {
      "cell_type": "markdown",
      "metadata": {
        "id": "uPq1FOvCZI6w"
      },
      "source": [
        "**What are some key takeaways that you learned from this lab?**"
      ],
      "id": "uPq1FOvCZI6w"
    },
    {
      "cell_type": "markdown",
      "metadata": {
        "id": "nOPK-j3sZLsm"
      },
      "source": [
        "[Write your response here. Double-click (or enter) to edit.]"
      ],
      "id": "nOPK-j3sZLsm"
    },
    {
      "cell_type": "markdown",
      "metadata": {
        "id": "d2NnpyO_ZL6x"
      },
      "source": [
        "**What findings would you share with others?**"
      ],
      "id": "d2NnpyO_ZL6x"
    },
    {
      "cell_type": "markdown",
      "metadata": {
        "id": "goG0jEeQZOIr"
      },
      "source": [
        "[Write your response here. Double-click (or enter) to edit.]"
      ],
      "id": "goG0jEeQZOIr"
    },
    {
      "cell_type": "markdown",
      "metadata": {
        "id": "TLioKMc0ZTZi"
      },
      "source": [
        "**What recommendations would you share with stakeholders based on these findings?**"
      ],
      "id": "TLioKMc0ZTZi"
    },
    {
      "cell_type": "markdown",
      "metadata": {
        "id": "mVFm54BfZTv5"
      },
      "source": [
        "[Write your response here. Double-click (or enter) to edit.]"
      ],
      "id": "mVFm54BfZTv5"
    },
    {
      "cell_type": "markdown",
      "metadata": {
        "id": "R9sAADZgr-YI"
      },
      "source": [
        "**References**\n",
        "\n",
        "Bhat, M.A. (2022, March). [*Unicorn Companies*](https://www.kaggle.com/datasets/mysarahmadbhat/unicorn-companies). \n",
        "\n"
      ],
      "id": "R9sAADZgr-YI"
    },
    {
      "cell_type": "code",
      "source": [
        "# Create bar plot\n",
        "# with Industry column as the categories of the bars\n",
        "# and the difference in years between Year Joined column and Year Founded column as the heights of the bars\n",
        "\n",
        "### YOUR CODE HERE ###\n",
        "import matplotlib.pyplot as plt\n",
        "\n",
        "# create a bar plot\n",
        "plt.figure(figsize=(20, 8))\n",
        "plt.bar(companies_sample[\"Industry\"],companies_sample[\"Valuation Billions\"],width=0.8)\n",
        "\n",
        "plt.xticks(rotation=75)\n",
        "\n",
        "plt.ylabel(\"milyar dolar\")\n",
        "plt.xlabel(\"Industries\")\n",
        "plt.show()"
      ],
      "metadata": {
        "colab": {
          "base_uri": "https://localhost:8080/",
          "height": 916
        },
        "id": "wkKsDR1JEyPr",
        "outputId": "1457a608-1bf1-4bc2-bb8c-322675c4498f"
      },
      "id": "wkKsDR1JEyPr",
      "execution_count": 53,
      "outputs": [
        {
          "output_type": "display_data",
          "data": {
            "text/plain": [
              "<Figure size 2000x800 with 1 Axes>"
            ],
            "image/png": "[encoded data removed]"
          },
          "metadata": {}
        }
      ]
    }
  ],
  "metadata": {
    "colab": {
      "provenance": [],
      "include_colab_link": true
    },
    "kernelspec": {
      "display_name": "Python 3",
      "language": "python",
      "name": "python3"
    },
    "language_info": {
      "codemirror_mode": {
        "name": "ipython",
        "version": 3
      },
      "file_extension": ".py",
      "mimetype": "text/x-python",
      "name": "python",
      "nbconvert_exporter": "python",
      "pygments_lexer": "ipython3",
      "version": "3.7.6"
    },
    "toc-autonumbering": false,
    "toc-showtags": false
  },
  "nbformat": 4,
  "nbformat_minor": 5
}